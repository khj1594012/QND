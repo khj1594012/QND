{
  "cells": [
    {
      "cell_type": "code",
      "execution_count": null,
      "metadata": {
        "colab": {
          "base_uri": "https://localhost:8080/"
        },
        "id": "UfgQWPiBz6xG",
        "outputId": "a9bdec58-4bd5-4bea-a9bc-0158841c6cad"
      },
      "outputs": [
        {
          "output_type": "stream",
          "name": "stdout",
          "text": [
            "Looking in indexes: https://pypi.org/simple, https://us-python.pkg.dev/colab-wheels/public/simple/\n",
            "Collecting pennylane\n",
            "  Downloading PennyLane-0.26.0-py3-none-any.whl (1.0 MB)\n",
            "\u001b[K     |████████████████████████████████| 1.0 MB 13.1 MB/s \n",
            "\u001b[?25hRequirement already satisfied: numpy in /usr/local/lib/python3.7/dist-packages (from pennylane) (1.21.6)\n",
            "Requirement already satisfied: toml in /usr/local/lib/python3.7/dist-packages (from pennylane) (0.10.2)\n",
            "Requirement already satisfied: cachetools in /usr/local/lib/python3.7/dist-packages (from pennylane) (4.2.4)\n",
            "Requirement already satisfied: autograd in /usr/local/lib/python3.7/dist-packages (from pennylane) (1.4)\n",
            "Requirement already satisfied: networkx in /usr/local/lib/python3.7/dist-packages (from pennylane) (2.6.3)\n",
            "Collecting pennylane-lightning>=0.26\n",
            "  Downloading PennyLane_Lightning-0.26.0-cp37-cp37m-manylinux_2_17_x86_64.manylinux2014_x86_64.whl (13.7 MB)\n",
            "\u001b[K     |████████████████████████████████| 13.7 MB 49.6 MB/s \n",
            "\u001b[?25hCollecting autoray>=0.3.1\n",
            "  Downloading autoray-0.3.2-py3-none-any.whl (36 kB)\n",
            "Requirement already satisfied: appdirs in /usr/local/lib/python3.7/dist-packages (from pennylane) (1.4.4)\n",
            "Collecting retworkx\n",
            "  Downloading retworkx-0.11.0-cp37-cp37m-manylinux_2_5_x86_64.manylinux1_x86_64.manylinux_2_12_x86_64.manylinux2010_x86_64.whl (1.6 MB)\n",
            "\u001b[K     |████████████████████████████████| 1.6 MB 76.9 MB/s \n",
            "\u001b[?25hCollecting semantic-version>=2.7\n",
            "  Downloading semantic_version-2.10.0-py2.py3-none-any.whl (15 kB)\n",
            "Requirement already satisfied: scipy in /usr/local/lib/python3.7/dist-packages (from pennylane) (1.7.3)\n",
            "Collecting ninja\n",
            "  Downloading ninja-1.10.2.4-py2.py3-none-manylinux_2_5_x86_64.manylinux1_x86_64.whl (120 kB)\n",
            "\u001b[K     |████████████████████████████████| 120 kB 83.0 MB/s \n",
            "\u001b[?25hRequirement already satisfied: future>=0.15.2 in /usr/local/lib/python3.7/dist-packages (from autograd->pennylane) (0.16.0)\n",
            "Installing collected packages: ninja, semantic-version, retworkx, pennylane-lightning, autoray, pennylane\n",
            "Successfully installed autoray-0.3.2 ninja-1.10.2.4 pennylane-0.26.0 pennylane-lightning-0.26.0 retworkx-0.11.0 semantic-version-2.10.0\n"
          ]
        }
      ],
      "source": [
        "!pip install pennylane"
      ]
    },
    {
      "cell_type": "code",
      "execution_count": null,
      "metadata": {
        "id": "jeanulS00Oyu"
      },
      "outputs": [],
      "source": [
        "import tensorflow as tf\n",
        "import numpy as np\n",
        "from sklearn import datasets as ds\n",
        "from sklearn.model_selection import train_test_split\n",
        "from sklearn.preprocessing import MinMaxScaler\n",
        "import matplotlib.pyplot as plt\n",
        "from matplotlib.colors import ListedColormap\n",
        "import tensorflow as tf\n",
        "from tensorflow import keras\n",
        "import numpy as np\n",
        "import pandas as pd\n",
        "import re\n",
        "import csv\n",
        "import random\n",
        "import string\n",
        "import multiprocessing\n",
        "import itertools\n",
        "import random\n",
        "import csv\n",
        "import statistics\n",
        "import string\n",
        "import random\n",
        "import pennylane as qml\n",
        "from tensorflow.keras.regularizers import l2"
      ]
    },
    {
      "cell_type": "code",
      "execution_count": null,
      "metadata": {
        "id": "nQrRWgKH0dcY"
      },
      "outputs": [],
      "source": [
        "#S-Box Layer\n",
        "s_box=[0xC,0x5,0x6,0xB,0x9,0x0,0xA,0xD,0x3,0xE,0xF,0x8,0x4,0x7,0x1,0x2]\n",
        "\n",
        "# Rotate left: 0b1001 --> 0b0011\n",
        "rol = lambda val, r_bits, max_bits: \\\n",
        "    (val << r_bits%max_bits) & (2**max_bits-1) | \\\n",
        "    ((val & (2**max_bits-1)) >> (max_bits-(r_bits%max_bits)))\n",
        "\n",
        "# Rotate right: 0b1001 --> 0b1100\n",
        "ror = lambda val, r_bits, max_bits: \\\n",
        "    ((val & (2**max_bits-1)) >> r_bits%max_bits) | \\\n",
        "    (val << (max_bits-(r_bits%max_bits)) & (2**max_bits-1))\n",
        "\n",
        "# s-present는 Present의 키스케줄링 동일. 오른쪽 4n bit로만 구성\n",
        "def genRoundKeys(key, rounds=32):\n",
        "    roundkeys = []\n",
        "    for i in range(1,rounds+1): # (K1 ... K32)\n",
        "        # rawkey: used in comments to show what happens at bitlevel\n",
        "        # rawKey[0:64]\n",
        "        roundkeys.append(key >>16)\n",
        "        #1. Shift\n",
        "        #rawKey[19:len(rawKey)]+rawKey[0:19]\n",
        "        key = ((key & (2**19-1)) << 61) + (key >> 19)\n",
        "        #2. SBox\n",
        "        #rawKey[76:80] = S(rawKey[76:80])\n",
        "        key = (s_box[key >> 76] << 76)+(key & (2**76-1))\n",
        "        #3. Salt\n",
        "        #rawKey[15:20] ^ i\n",
        "        key ^= i << 15\n",
        "\n",
        "    return roundkeys\n",
        "\n",
        "#############################################\n",
        "\n",
        "import numpy as np\n",
        "\n",
        "def Sbox(x):\n",
        "    \n",
        "    temp_lsb = x & 0b1111\n",
        "    temp_x = (x & 0b0000000011110000) >> 4\n",
        "    temp_y = (x & 0b0000111100000000) >> 8\n",
        "    temp_msb = x >> 12\n",
        "\n",
        "    table = [0xc, 0x5, 0x6, 0xb, 0x9, 0x00, 0xa, 0xd, 0x3, 0xe, 0xf, 0x8, 0x4, 0x7, 0x1, 0x2]\n",
        "    \n",
        "    temp_lsb = table[temp_lsb]\n",
        "    temp_x = table[temp_x]\n",
        "    temp_y = table[temp_y]\n",
        "    temp_msb = table[temp_msb]\n",
        "\n",
        "    temp1_x = [0,0,0,0]\n",
        "    temp1_y = [0,0,0,0]\n",
        "    temp1_msb = [0,0,0,0]\n",
        "    \n",
        "    temp1_x[0] = (temp_x & 0b0001)\n",
        "    temp1_x[1] = (temp_x & 0b0010) >> 1\n",
        "    temp1_x[2] = (temp_x & 0b0100) >> 2\n",
        "    temp1_x[3] = (temp_x & 0b1000) >> 3\n",
        "\n",
        "    temp1_y[0] = (temp_y & 0b0001)\n",
        "    temp1_y[1] = (temp_y & 0b0010) >> 1\n",
        "    temp1_y[2] = (temp_y & 0b0100) >> 2\n",
        "    temp1_y[3] = (temp_y & 0b1000) >> 3\n",
        "\n",
        "    temp1_msb[0] = (temp_msb & 0b0001)\n",
        "    temp1_msb[1] = (temp_msb & 0b0010) >> 1\n",
        "    temp1_msb[2] = (temp_msb & 0b0100) >> 2\n",
        "    temp1_msb[3] = (temp_msb & 0b1000) >> 3\n",
        "\n",
        "    result = temp_lsb + temp1_x[0] * 16 +  temp1_x[1] * 32 + temp1_x[2] * 64 + temp1_x[3] * 128 + temp1_y[0] * 256 +  temp1_y[1] * 512 + temp1_y[2] * 1024 + temp1_y[3] * 2048 + temp1_msb[0] * 4096 +  temp1_msb[1] * 8192 + temp1_msb[2] * 16384 + temp1_msb[3] * 32768\n",
        "\n",
        "    return result\n",
        "\n",
        "def Permutation(x):\n",
        "\n",
        "    # n=4 : 15 11 7 3 14 10 6 2 13 9 5 1 12 8 4 0\n",
        "\n",
        "    # n=2 : 73625140\n",
        "\n",
        "    temp = [0,0,0,0,0,0,0,0,0,0,0,0,0,0,0,0]\n",
        "\n",
        "    temp[0] = x & 0b0001\n",
        "    temp[1] = (x & 0b0010) >> 1\n",
        "    temp[2] = (x & 0b0100) >> 2\n",
        "    temp[3] = (x & 0b1000) >> 3\n",
        "\n",
        "    temp[4] = (x & 0b00010000) >> 4\n",
        "    temp[5] = (x & 0b00100000) >> 5\n",
        "    temp[6] = (x & 0b01000000) >> 6\n",
        "    temp[7] = (x & 0b10000000) >> 7\n",
        "\n",
        "    temp[8] = (x & 0b000100000000) >> 8\n",
        "    temp[9] = (x & 0b001000000000) >> 9\n",
        "    temp[10] = (x & 0b010000000000) >> 10\n",
        "    temp[11] = (x & 0b100000000000) >> 11\n",
        "\n",
        "    temp[12] = (x & 0b0001000000000000) >> 12\n",
        "    temp[13] = (x & 0b0010000000000000) >> 13\n",
        "    temp[14] = (x & 0b0100000000000000) >> 14\n",
        "    temp[15] = (x & 0b1000000000000000) >> 15\n",
        "\n",
        "    result = 0\n",
        "    result = result + temp[0]\n",
        "    result = result + temp[4] * 2\n",
        "    result = result + temp[8] * 4\n",
        "    result = result + temp[12] * 8\n",
        "    result = result + temp[1] * 16\n",
        "    result = result + temp[5] * 32\n",
        "    result = result + temp[9] * 64\n",
        "    result = result + temp[13] * 128\n",
        "\n",
        "    result = result + temp[2] * 256\n",
        "    result = result + temp[6] * 512\n",
        "    result = result + temp[10] * 1024\n",
        "    result = result + temp[14] * 2048\n",
        "    result = result + temp[3] * 4096\n",
        "    result = result + temp[7] * 8192\n",
        "    result = result + temp[11] * 16384\n",
        "    result = result + temp[15] * 32768\n",
        "\n",
        "    return result\n",
        "\n",
        "def Present(pt, key, rounds):\n",
        "    roundkeys = genRoundKeys(key, rounds)\n",
        "    s_rnd = []\n",
        "\n",
        "    n=4\n",
        "    \n",
        "    for rnd in range(len(roundkeys)):         \n",
        "        short = int(bin(roundkeys[rnd])[-4*n:],2)\n",
        "        s_rnd.append(short)\n",
        "\n",
        "    for i in range(rounds-1):\n",
        "        pt = pt ^ s_rnd[i]#s_rnd[i] #key\n",
        "        pt = Sbox(pt)\n",
        "        pt = Permutation(pt)\n",
        "    ct = pt ^ s_rnd[-1] #\n",
        "\n",
        "    return ct"
      ]
    },
    {
      "cell_type": "code",
      "execution_count": null,
      "metadata": {
        "id": "MRX0QE7u0g2i"
      },
      "outputs": [],
      "source": [
        "import numpy as np\n",
        "from os import urandom\n",
        "import numpy as np\n",
        "from os import urandom\n",
        "import random\n",
        "\n",
        "# 8pt -> 16pt\n",
        "\n",
        "#convert_to_binary takes as input an array of ciphertext pairs\n",
        "#where the first row of the array contains the lefthand side of the ciphertexts,\n",
        "#the second row contains the righthand side of the ciphertexts,\n",
        "#the third row contains the lefthand side of the second ciphertexts,\n",
        "#and so on\n",
        "#it returns an array of bit vectors containing the same data\n",
        "\n",
        "def WORD_SIZE():\n",
        "    return(8);\n",
        "\n",
        "'''\n",
        "def ALPHA():\n",
        "    return(7);\n",
        "\n",
        "def BETA():\n",
        "    return(2);\n",
        "'''\n",
        "\n",
        "def convert_to_binary(arr):\n",
        "  X = np.zeros((4 * WORD_SIZE(),len(arr[0])),dtype=np.uint8);\n",
        "  for i in range(4 * WORD_SIZE()):\n",
        "    index = i // WORD_SIZE();\n",
        "    offset = WORD_SIZE() - (i % WORD_SIZE()) - 1;\n",
        "    X[i] = (arr[index] >> offset) & 1;\n",
        "  X = X.transpose();\n",
        "  return(X);\n",
        "\n",
        "#takes a text file that contains encrypted block0, block1, true diff prob, real or random\n",
        "#data samples are line separated, the above items whitespace-separated\n",
        "#returns train data, ground truth, optimal ddt prediction\n",
        "def readcsv(datei):\n",
        "    data = np.genfromtxt(datei, delimiter=' ', converters={x: lambda s: int(s,16) for x in range(2)});\n",
        "    X0 = [data[i][0] for i in range(len(data))];\n",
        "    X1 = [data[i][1] for i in range(len(data))];\n",
        "    Y = [data[i][3] for i in range(len(data))];\n",
        "    Z = [data[i][2] for i in range(len(data))];\n",
        "    ct0a = [X0[i] >> 16 for i in range(len(data))];\n",
        "    ct1a = [X0[i] & MASK_VAL for i in range(len(data))];\n",
        "    ct0b = [X1[i] >> 16 for i in range(len(data))];\n",
        "    ct1b = [X1[i] & MASK_VAL for i in range(len(data))];\n",
        "    ct0a = np.array(ct0a, dtype=np.uint16); ct1a = np.array(ct1a,dtype=np.uint16);\n",
        "    ct0b = np.array(ct0b, dtype=np.uint16); ct1b = np.array(ct1b, dtype=np.uint16);\n",
        "    \n",
        "    #X = [[X0[i] >> 16, X0[i] & 0xffff, X1[i] >> 16, X1[i] & 0xffff] for i in range(len(data))];\n",
        "    X = convert_to_binary([ct0a, ct1a, ct0b, ct1b]); \n",
        "    Y = np.array(Y, dtype=np.uint8); Z = np.array(Z);\n",
        "    return(X,Y,Z);\n",
        "\n",
        "#baseline training data generator\n",
        "def make_train_data(n, nr, diff=(0x00,0x07)):\n",
        "\n",
        "\n",
        "  plain0l = np.zeros(shape=(n,),dtype=int)\n",
        "  plain0r = np.zeros(shape=(n,),dtype=int)\n",
        "  plain1l = np.zeros(shape=(n,),dtype=int)\n",
        "  plain1r = np.zeros(shape=(n,),dtype=int)\n",
        "\n",
        "  '''\n",
        "  plain = random.randint(0, 255)\n",
        "  masterkey = random.randint(0, 127)\n",
        "  cipher = Present(plain, masterkey, rounds)\n",
        "  '''\n",
        "\n",
        "  for i in range(n):\n",
        "    plain0l[i] = random.randint(0, 255) # 8-bit\n",
        "    plain0r[i] = random.randint(0, 255) # 8-bit\n",
        "\n",
        "    plain1l[i] = plain0l[i] ^ diff[0];\n",
        "    plain1r[i] = plain0r[i] ^ diff[1];\n",
        "\n",
        "  Y = np.ones(shape=(n,)) # cipher\n",
        "\n",
        "  for i in range(int(n/2)):\n",
        "    plain1l[i] = random.randint(0, 255)\n",
        "    plain1r[i] = random.randint(0, 255)\n",
        "    Y[i] = 0 # random \n",
        "\n",
        "  plain0 = np.zeros(shape=(n,),dtype=int)\n",
        "  plain1 = np.zeros(shape=(n,),dtype=int)\n",
        "  ctdata0 = np.zeros(shape=(n,),dtype=int)\n",
        "  ctdata1 = np.zeros(shape=(n,),dtype=int)\n",
        "\n",
        "  ctdata0r = np.zeros(shape=(n,),dtype=int)\n",
        "  ctdata0l = np.zeros(shape=(n,),dtype=int)\n",
        "  ctdata1r = np.zeros(shape=(n,),dtype=int)\n",
        "  ctdata1l = np.zeros(shape=(n,),dtype=int)\n",
        "  \n",
        "  for i in range(n):\n",
        "\n",
        "    plain0[i] = int(256*(plain0l[i]) + plain0r[i]) \n",
        "    plain1[i] = int(256*(plain1l[i]) + plain1r[i])\n",
        "\n",
        "    ks = random.randint(0, 65535)\n",
        "    ctdata0[i] = Present(plain0[i], ks, nr)\n",
        "    ctdata1[i] = Present(plain1[i], ks, nr)\n",
        "\n",
        "    ctdata0r[i] = ctdata0[i] % 256\n",
        "    ctdata0l[i] = ctdata0[i] >> 8\n",
        "\n",
        "    ctdata1r[i] = ctdata1[i] % 256\n",
        "    ctdata1l[i] = ctdata1[i] >> 8\n",
        "\n",
        "  X = convert_to_binary([ctdata0l, ctdata0r, ctdata1l, ctdata1r]); \n",
        "\n",
        "  return(X,Y);"
      ]
    },
    {
      "cell_type": "code",
      "execution_count": null,
      "metadata": {
        "id": "jn0dIhIP0iiy"
      },
      "outputs": [],
      "source": [
        "num_rounds=3\n",
        "x_train, y_train = make_train_data(7000,num_rounds); #10**7\n",
        "x_val, y_val = make_train_data(1900,num_rounds); # 500~1000\n",
        "x_test, y_test = make_train_data(100,num_rounds); #10**7\n",
        "\n",
        "x_train = np.asarray(x_train)\n",
        "x_val = np.asarray(x_val)\n",
        "x_test = np.asarray(x_test)\n",
        "\n",
        "y_train = np.asarray(y_train)\n",
        "y_val = np.asarray(y_val)\n",
        "y_test = np.asarray(y_test)\n",
        "\n",
        "\n",
        "y_train = y_train.reshape((len(y_train),1))\n",
        "y_val = y_val.reshape((len(y_val),1))\n",
        "y_test = y_test.reshape((len(y_test),1))"
      ]
    },
    {
      "cell_type": "markdown",
      "metadata": {
        "id": "2v6o1x81dMw3"
      },
      "source": [
        "Random + Amplitude"
      ]
    },
    {
      "cell_type": "code",
      "execution_count": null,
      "metadata": {
        "id": "_EvdvILldRqp"
      },
      "outputs": [],
      "source": [
        "import pennylane as qml\n",
        "from pennylane import numpy as np\n",
        "\n",
        "n_qubits = 4\n",
        "\n",
        "#dev = qml.device(\"default.qubit\", wires=n_qubits)\n",
        "dev = qml.device('lightning.qubit', wires=n_qubits)\n",
        "\n",
        "@qml.qnode(dev)\n",
        "def qnode(inputs, weights):\n",
        "    #qml.AmplitudeEmbedding(inputs, wires=range(n_qubits), pad_with=0, normalize=True)\n",
        "    qml.RandomLayers(weights=weights, wires=range(n_qubits))\n",
        "    return [qml.expval(qml.PauliZ(wires=i)) for i in range(n_qubits)]"
      ]
    },
    {
      "cell_type": "markdown",
      "metadata": {
        "id": "HEGe5ejsdNrQ"
      },
      "source": [
        "Strong"
      ]
    },
    {
      "cell_type": "code",
      "execution_count": null,
      "metadata": {
        "id": "5CZ_1NgcdRF8"
      },
      "outputs": [],
      "source": [
        "n_qubits = 4\n",
        "#dev = qml.device('default.mixed', wires=n_qubits)\n",
        "\n",
        "#dev = qml.device(\"default.qubit\", wires=n_qubits)\n",
        "\n",
        "dev = qml.device(\"lightning.qubit\", wires=n_qubits)\n",
        "\n",
        "@qml.qnode(dev) # , interface=\"tf\", diff_method=\"backprop \n",
        "def qnode(inputs, weights):\n",
        "    #qml.AmplitudeEmbedding(inputs, wires=range(n_qubits), pad_with=0, normalize=True)\n",
        "    qml.StronglyEntanglingLayers(weights=weights, wires=range(n_qubits))\n",
        "    return [qml.expval(qml.PauliZ(wires=i)) for i in range(n_qubits)]"
      ]
    },
    {
      "cell_type": "code",
      "execution_count": null,
      "metadata": {
        "id": "WGfSJdUm1Fpq"
      },
      "outputs": [],
      "source": [
        "n_layers = 10 # 10으로해서 해보기. \n",
        "weight_shapes = {\"weights\": (n_layers, n_qubits)} #,3\n",
        "qlayer = qml.qnn.KerasLayer(qnode, weight_shapes, output_dim=n_qubits)"
      ]
    },
    {
      "cell_type": "code",
      "execution_count": null,
      "metadata": {
        "colab": {
          "base_uri": "https://localhost:8080/",
          "height": 203
        },
        "id": "srrvH0eLPrAT",
        "outputId": "14279700-15f8-4fc0-982e-96234364577a"
      },
      "outputs": [
        {
          "output_type": "display_data",
          "data": {
            "text/plain": [
              "<Figure size 3600x360 with 1 Axes>"
            ],
            "image/png": "[encoded data removed]"
          },
          "metadata": {}
        }
      ],
      "source": [
        "qml.drawer.use_style('black_white')\n",
        "w = np.ones((n_layers, n_qubits,3))\n",
        "inputssss = np.ones((32,16,3))\n",
        "fig, ax = qml.draw_mpl(qnode)(inputssss,w)\n",
        "fig.show()"
      ]
    },
    {
      "cell_type": "code",
      "execution_count": null,
      "metadata": {
        "id": "x1nckrmnT5TZ"
      },
      "outputs": [],
      "source": [
        "# re-define the layers\n",
        "clayer_1 = tf.keras.layers.Dense(256, activation = 'relu',kernel_regularizer=l2(0.001))\n",
        "clayer_2 = tf.keras.layers.Dense(256)\n",
        "clayer_3 = tf.keras.layers.Dense(64)\n",
        "# qubit 수 * 양자회로 수 는 맞아야 함\n",
        "\n",
        "inp = tf.keras.layers.Input(shape=(32, ))\n",
        "\n",
        "q1 = qml.qnn.KerasLayer(qnode, weight_shapes, output_dim=n_qubits)\n",
        "q2 = qml.qnn.KerasLayer(qnode, weight_shapes, output_dim=n_qubits)\n",
        "q3 = qml.qnn.KerasLayer(qnode, weight_shapes, output_dim=n_qubits)\n",
        "q4 = qml.qnn.KerasLayer(qnode, weight_shapes, output_dim=n_qubits)\n",
        "\n",
        "output_layer = tf.keras.layers.Dense(1, activation = 'sigmoid')\n",
        "\n",
        "# construct the model\n",
        "inputs = tf.keras.Input(shape=(32,))\n",
        "x = clayer_1(inputs)\n",
        "#x = clayer_2(x)\n",
        "x = clayer_3(x)\n",
        "x1, x2, x3, x4 = tf.split(x, 4, axis=1)\n",
        "\n",
        "x1 = q1(x1)\n",
        "x2 = q2(x2)\n",
        "x3 = q3(x3)\n",
        "x4 = q4(x4)\n",
        "\n",
        "x = tf.concat([x1,x2,x3,x4], axis=1)\n",
        "outputs = output_layer(x)\n",
        "\n",
        "q1.build((32,16))\n",
        "q2.build((32,16))\n",
        "q3.build((32,16))\n",
        "q4.build((32,16))\n",
        "\n",
        "model = tf.keras.Model(inputs=inputs, outputs=outputs)"
      ]
    },
    {
      "cell_type": "code",
      "execution_count": null,
      "metadata": {
        "colab": {
          "base_uri": "https://localhost:8080/"
        },
        "id": "pzj_OX3eS_2M",
        "outputId": "76f52c09-1c0d-4e35-e1ec-0960273fbd5c"
      },
      "outputs": [
        {
          "output_type": "stream",
          "name": "stdout",
          "text": [
            "Model: \"model\"\n",
            "__________________________________________________________________________________________________\n",
            " Layer (type)                   Output Shape         Param #     Connected to                     \n",
            "==================================================================================================\n",
            " input_2 (InputLayer)           [(None, 32)]         0           []                               \n",
            "                                                                                                  \n",
            " dense (Dense)                  (None, 256)          8448        ['input_2[0][0]']                \n",
            "                                                                                                  \n",
            " dense_2 (Dense)                (None, 64)           16448       ['dense[0][0]']                  \n",
            "                                                                                                  \n",
            " tf.split (TFOpLambda)          [(None, 16),         0           ['dense_2[0][0]']                \n",
            "                                 (None, 16),                                                      \n",
            "                                 (None, 16),                                                      \n",
            "                                 (None, 16)]                                                      \n",
            "                                                                                                  \n",
            " keras_layer_1 (KerasLayer)     (None, 4)            120         ['tf.split[0][0]']               \n",
            "                                                                                                  \n",
            " keras_layer_2 (KerasLayer)     (None, 4)            120         ['tf.split[0][1]']               \n",
            "                                                                                                  \n",
            " keras_layer_3 (KerasLayer)     (None, 4)            120         ['tf.split[0][2]']               \n",
            "                                                                                                  \n",
            " keras_layer_4 (KerasLayer)     (None, 4)            120         ['tf.split[0][3]']               \n",
            "                                                                                                  \n",
            " tf.concat (TFOpLambda)         (None, 16)           0           ['keras_layer_1[0][0]',          \n",
            "                                                                  'keras_layer_2[0][0]',          \n",
            "                                                                  'keras_layer_3[0][0]',          \n",
            "                                                                  'keras_layer_4[0][0]']          \n",
            "                                                                                                  \n",
            " dense_3 (Dense)                (None, 1)            17          ['tf.concat[0][0]']              \n",
            "                                                                                                  \n",
            "==================================================================================================\n",
            "Total params: 25,393\n",
            "Trainable params: 25,393\n",
            "Non-trainable params: 0\n",
            "__________________________________________________________________________________________________\n"
          ]
        }
      ],
      "source": [
        "model. summary()"
      ]
    },
    {
      "cell_type": "code",
      "execution_count": null,
      "metadata": {
        "id": "RVLyKA3V1bJR"
      },
      "outputs": [],
      "source": [
        "opt = tf.keras.optimizers.Adam(learning_rate=0.001)\n",
        "model.compile(opt, loss=\"binary_crossentropy\", metrics=[\"acc\"])"
      ]
    },
    {
      "cell_type": "code",
      "execution_count": null,
      "metadata": {
        "id": "idhFiO0Z0woq"
      },
      "outputs": [],
      "source": [
        "fitting = model.fit(x_train, y_train, epochs=15, batch_size=8, validation_data = (x_val, y_val), verbose=2)"
      ]
    },
    {
      "cell_type": "code",
      "execution_count": null,
      "metadata": {
        "id": "MnVUq3HVdHjh"
      },
      "outputs": [],
      "source": [
        "predicted_labels = model.predict(np.array(x_test))\n",
        "\n",
        "res = np.array(predicted_labels > 0.5, dtype = int)\n",
        "\n",
        "res = res.reshape((len(x_test)))\n",
        "y_test = y_test.reshape((len(y_test)))\n",
        "\n",
        "total = 0\n",
        "\n",
        "for i in range(len(res)):\n",
        "    if res[i] == y_test[i]:\n",
        "        total += 1\n",
        "\n",
        "print(total/len(x_test))\n"
      ]
    },
    {
      "cell_type": "code",
      "execution_count": null,
      "metadata": {
        "id": "G7xnmslUHT0l"
      },
      "outputs": [],
      "source": []
    }
  ],
  "metadata": {
    "accelerator": "GPU",
    "colab": {
      "collapsed_sections": [],
      "machine_shape": "hm",
      "provenance": []
    },
    "gpuClass": "standard",
    "kernelspec": {
      "display_name": "Python 3",
      "name": "python3"
    },
    "language_info": {
      "name": "python"
    }
  },
  "nbformat": 4,
  "nbformat_minor": 0
}