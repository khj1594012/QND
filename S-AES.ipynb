{
  "cells": [
    {
      "cell_type": "code",
      "execution_count": null,
      "metadata": {
        "colab": {
          "base_uri": "https://localhost:8080/"
        },
        "id": "UfgQWPiBz6xG",
        "outputId": "a5b2b183-5f58-451c-900c-4b827c421219"
      },
      "outputs": [
        {
          "name": "stdout",
          "output_type": "stream",
          "text": [
            "Looking in indexes: https://pypi.org/simple, https://us-python.pkg.dev/colab-wheels/public/simple/\n",
            "Collecting pennylane\n",
            "  Downloading PennyLane-0.24.0-py3-none-any.whl (957 kB)\n",
            "\u001b[K     |████████████████████████████████| 957 kB 15.3 MB/s \n",
            "\u001b[?25hRequirement already satisfied: autograd in /usr/local/lib/python3.7/dist-packages (from pennylane) (1.4)\n",
            "Requirement already satisfied: appdirs in /usr/local/lib/python3.7/dist-packages (from pennylane) (1.4.4)\n",
            "Requirement already satisfied: networkx in /usr/local/lib/python3.7/dist-packages (from pennylane) (2.6.3)\n",
            "Requirement already satisfied: scipy in /usr/local/lib/python3.7/dist-packages (from pennylane) (1.7.3)\n",
            "Collecting retworkx\n",
            "  Downloading retworkx-0.11.0-cp37-cp37m-manylinux_2_5_x86_64.manylinux1_x86_64.manylinux_2_12_x86_64.manylinux2010_x86_64.whl (1.6 MB)\n",
            "\u001b[K     |████████████████████████████████| 1.6 MB 65.9 MB/s \n",
            "\u001b[?25hRequirement already satisfied: cachetools in /usr/local/lib/python3.7/dist-packages (from pennylane) (4.2.4)\n",
            "Collecting pennylane-lightning>=0.24\n",
            "  Downloading PennyLane_Lightning-0.24.0-cp37-cp37m-manylinux_2_17_x86_64.manylinux2014_x86_64.whl (9.3 MB)\n",
            "\u001b[K     |████████████████████████████████| 9.3 MB 71.6 MB/s \n",
            "\u001b[?25hRequirement already satisfied: numpy in /usr/local/lib/python3.7/dist-packages (from pennylane) (1.21.6)\n",
            "Collecting toml\n",
            "  Downloading toml-0.10.2-py2.py3-none-any.whl (16 kB)\n",
            "Collecting autoray>=0.3.1\n",
            "  Downloading autoray-0.3.2-py3-none-any.whl (36 kB)\n",
            "Collecting semantic-version==2.6\n",
            "  Downloading semantic_version-2.6.0-py3-none-any.whl (14 kB)\n",
            "Collecting ninja\n",
            "  Downloading ninja-1.10.2.3-py2.py3-none-manylinux_2_5_x86_64.manylinux1_x86_64.whl (108 kB)\n",
            "\u001b[K     |████████████████████████████████| 108 kB 90.5 MB/s \n",
            "\u001b[?25hRequirement already satisfied: future>=0.15.2 in /usr/local/lib/python3.7/dist-packages (from autograd->pennylane) (0.16.0)\n",
            "Installing collected packages: ninja, toml, semantic-version, retworkx, pennylane-lightning, autoray, pennylane\n",
            "Successfully installed autoray-0.3.2 ninja-1.10.2.3 pennylane-0.24.0 pennylane-lightning-0.24.0 retworkx-0.11.0 semantic-version-2.6.0 toml-0.10.2\n"
          ]
        }
      ],
      "source": [
        "!pip install pennylane"
      ]
    },
    {
      "cell_type": "code",
      "execution_count": null,
      "metadata": {
        "colab": {
          "base_uri": "https://localhost:8080/"
        },
        "id": "piEdlWJBR-A9",
        "outputId": "ea975bcd-d2e0-4cc2-d520-37b0a57b90b7"
      },
      "outputs": [
        {
          "name": "stdout",
          "output_type": "stream",
          "text": [
            "Looking in indexes: https://pypi.org/simple, https://us-python.pkg.dev/colab-wheels/public/simple/\n",
            "Collecting qiskit\n",
            "  Downloading qiskit-0.37.1.tar.gz (13 kB)\n",
            "Collecting qiskit-terra==0.21.1\n",
            "  Downloading qiskit_terra-0.21.1-cp37-cp37m-manylinux_2_17_x86_64.manylinux2014_x86_64.whl (6.7 MB)\n",
            "\u001b[K     |████████████████████████████████| 6.7 MB 11.5 MB/s \n",
            "\u001b[?25hCollecting qiskit-aer==0.10.4\n",
            "  Downloading qiskit_aer-0.10.4-cp37-cp37m-manylinux_2_12_x86_64.manylinux2010_x86_64.whl (18.0 MB)\n",
            "\u001b[K     |████████████████████████████████| 18.0 MB 36.3 MB/s \n",
            "\u001b[?25hCollecting qiskit-ibmq-provider==0.19.2\n",
            "  Downloading qiskit_ibmq_provider-0.19.2-py3-none-any.whl (240 kB)\n",
            "\u001b[K     |████████████████████████████████| 240 kB 86.0 MB/s \n",
            "\u001b[?25hRequirement already satisfied: scipy>=1.0 in /usr/local/lib/python3.7/dist-packages (from qiskit-aer==0.10.4->qiskit) (1.7.3)\n",
            "Requirement already satisfied: numpy>=1.16.3 in /usr/local/lib/python3.7/dist-packages (from qiskit-aer==0.10.4->qiskit) (1.21.6)\n",
            "Requirement already satisfied: python-dateutil>=2.8.0 in /usr/local/lib/python3.7/dist-packages (from qiskit-ibmq-provider==0.19.2->qiskit) (2.8.2)\n",
            "Collecting websocket-client>=1.0.1\n",
            "  Downloading websocket_client-1.3.3-py3-none-any.whl (54 kB)\n",
            "\u001b[K     |████████████████████████████████| 54 kB 3.0 MB/s \n",
            "\u001b[?25hCollecting websockets>=10.0\n",
            "  Downloading websockets-10.3-cp37-cp37m-manylinux_2_5_x86_64.manylinux1_x86_64.manylinux_2_12_x86_64.manylinux2010_x86_64.whl (112 kB)\n",
            "\u001b[K     |████████████████████████████████| 112 kB 87.2 MB/s \n",
            "\u001b[?25hCollecting requests-ntlm>=1.1.0\n",
            "  Downloading requests_ntlm-1.1.0-py2.py3-none-any.whl (5.7 kB)\n",
            "Requirement already satisfied: urllib3>=1.21.1 in /usr/local/lib/python3.7/dist-packages (from qiskit-ibmq-provider==0.19.2->qiskit) (1.24.3)\n",
            "Requirement already satisfied: requests>=2.19 in /usr/local/lib/python3.7/dist-packages (from qiskit-ibmq-provider==0.19.2->qiskit) (2.23.0)\n",
            "Collecting symengine>=0.9\n",
            "  Downloading symengine-0.9.2-cp37-cp37m-manylinux2010_x86_64.whl (37.5 MB)\n",
            "\u001b[K     |████████████████████████████████| 37.5 MB 1.4 MB/s \n",
            "\u001b[?25hCollecting ply>=3.10\n",
            "  Downloading ply-3.11-py2.py3-none-any.whl (49 kB)\n",
            "\u001b[K     |████████████████████████████████| 49 kB 7.3 MB/s \n",
            "\u001b[?25hRequirement already satisfied: sympy>=1.3 in /usr/local/lib/python3.7/dist-packages (from qiskit-terra==0.21.1->qiskit) (1.7.1)\n",
            "Requirement already satisfied: psutil>=5 in /usr/local/lib/python3.7/dist-packages (from qiskit-terra==0.21.1->qiskit) (5.4.8)\n",
            "Requirement already satisfied: dill>=0.3 in /usr/local/lib/python3.7/dist-packages (from qiskit-terra==0.21.1->qiskit) (0.3.5.1)\n",
            "Collecting tweedledum<2.0,>=1.1\n",
            "  Downloading tweedledum-1.1.1-cp37-cp37m-manylinux_2_12_x86_64.manylinux2010_x86_64.whl (943 kB)\n",
            "\u001b[K     |████████████████████████████████| 943 kB 77.9 MB/s \n",
            "\u001b[?25hCollecting stevedore>=3.0.0\n",
            "  Downloading stevedore-3.5.0-py3-none-any.whl (49 kB)\n",
            "\u001b[K     |████████████████████████████████| 49 kB 6.8 MB/s \n",
            "\u001b[?25hRequirement already satisfied: retworkx>=0.11.0 in /usr/local/lib/python3.7/dist-packages (from qiskit-terra==0.21.1->qiskit) (0.11.0)\n",
            "Collecting shared-memory38\n",
            "  Downloading shared_memory38-0.1.2-cp37-cp37m-manylinux_2_5_x86_64.manylinux1_x86_64.whl (25 kB)\n",
            "Requirement already satisfied: typing-extensions in /usr/local/lib/python3.7/dist-packages (from qiskit-terra==0.21.1->qiskit) (4.1.1)\n",
            "Requirement already satisfied: six>=1.5 in /usr/local/lib/python3.7/dist-packages (from python-dateutil>=2.8.0->qiskit-ibmq-provider==0.19.2->qiskit) (1.15.0)\n",
            "Requirement already satisfied: chardet<4,>=3.0.2 in /usr/local/lib/python3.7/dist-packages (from requests>=2.19->qiskit-ibmq-provider==0.19.2->qiskit) (3.0.4)\n",
            "Requirement already satisfied: idna<3,>=2.5 in /usr/local/lib/python3.7/dist-packages (from requests>=2.19->qiskit-ibmq-provider==0.19.2->qiskit) (2.10)\n",
            "Requirement already satisfied: certifi>=2017.4.17 in /usr/local/lib/python3.7/dist-packages (from requests>=2.19->qiskit-ibmq-provider==0.19.2->qiskit) (2022.6.15)\n",
            "Collecting cryptography>=1.3\n",
            "  Downloading cryptography-37.0.4-cp36-abi3-manylinux_2_24_x86_64.whl (4.1 MB)\n",
            "\u001b[K     |████████████████████████████████| 4.1 MB 49.4 MB/s \n",
            "\u001b[?25hCollecting ntlm-auth>=1.0.2\n",
            "  Downloading ntlm_auth-1.5.0-py2.py3-none-any.whl (29 kB)\n",
            "Requirement already satisfied: cffi>=1.12 in /usr/local/lib/python3.7/dist-packages (from cryptography>=1.3->requests-ntlm>=1.1.0->qiskit-ibmq-provider==0.19.2->qiskit) (1.15.1)\n",
            "Requirement already satisfied: pycparser in /usr/local/lib/python3.7/dist-packages (from cffi>=1.12->cryptography>=1.3->requests-ntlm>=1.1.0->qiskit-ibmq-provider==0.19.2->qiskit) (2.21)\n",
            "Requirement already satisfied: importlib-metadata>=1.7.0 in /usr/local/lib/python3.7/dist-packages (from stevedore>=3.0.0->qiskit-terra==0.21.1->qiskit) (4.12.0)\n",
            "Collecting pbr!=2.1.0,>=2.0.0\n",
            "  Downloading pbr-5.9.0-py2.py3-none-any.whl (112 kB)\n",
            "\u001b[K     |████████████████████████████████| 112 kB 61.0 MB/s \n",
            "\u001b[?25hRequirement already satisfied: zipp>=0.5 in /usr/local/lib/python3.7/dist-packages (from importlib-metadata>=1.7.0->stevedore>=3.0.0->qiskit-terra==0.21.1->qiskit) (3.8.1)\n",
            "Requirement already satisfied: mpmath>=0.19 in /usr/local/lib/python3.7/dist-packages (from sympy>=1.3->qiskit-terra==0.21.1->qiskit) (1.2.1)\n",
            "Building wheels for collected packages: qiskit\n",
            "  Building wheel for qiskit (setup.py) ... \u001b[?25l\u001b[?25hdone\n",
            "  Created wheel for qiskit: filename=qiskit-0.37.1-py3-none-any.whl size=12067 sha256=c9993a7e5150b9dcd8613d85a957157631cf49565f758139ad6d7127b4688b36\n",
            "  Stored in directory: /root/.cache/pip/wheels/1c/3c/a3/bf8c2931e17937329c34a88b76cb88cbb7f9f2692fa7cfbcd1\n",
            "Successfully built qiskit\n",
            "Installing collected packages: pbr, tweedledum, symengine, stevedore, shared-memory38, ply, ntlm-auth, cryptography, websockets, websocket-client, requests-ntlm, qiskit-terra, qiskit-ibmq-provider, qiskit-aer, qiskit\n",
            "Successfully installed cryptography-37.0.4 ntlm-auth-1.5.0 pbr-5.9.0 ply-3.11 qiskit-0.37.1 qiskit-aer-0.10.4 qiskit-ibmq-provider-0.19.2 qiskit-terra-0.21.1 requests-ntlm-1.1.0 shared-memory38-0.1.2 stevedore-3.5.0 symengine-0.9.2 tweedledum-1.1.1 websocket-client-1.3.3 websockets-10.3\n"
          ]
        }
      ],
      "source": [
        "!pip install qiskit"
      ]
    },
    {
      "cell_type": "code",
      "execution_count": null,
      "metadata": {
        "colab": {
          "base_uri": "https://localhost:8080/"
        },
        "id": "6G7iZcW_TrUI",
        "outputId": "04d6e254-db17-4d9d-b138-255635385d08"
      },
      "outputs": [
        {
          "name": "stdout",
          "output_type": "stream",
          "text": [
            "Looking in indexes: https://pypi.org/simple, https://us-python.pkg.dev/colab-wheels/public/simple/\n",
            "Collecting pennylane-qiskit\n",
            "  Downloading PennyLane_qiskit-0.24.0-py3-none-any.whl (34 kB)\n",
            "Requirement already satisfied: qiskit>=0.32 in /usr/local/lib/python3.7/dist-packages (from pennylane-qiskit) (0.37.1)\n",
            "Requirement already satisfied: networkx>=2.2 in /usr/local/lib/python3.7/dist-packages (from pennylane-qiskit) (2.6.3)\n",
            "Requirement already satisfied: pennylane>=0.23 in /usr/local/lib/python3.7/dist-packages (from pennylane-qiskit) (0.24.0)\n",
            "Requirement already satisfied: numpy in /usr/local/lib/python3.7/dist-packages (from pennylane-qiskit) (1.21.6)\n",
            "Collecting mthree>=0.17\n",
            "  Downloading mthree-1.0.0-cp37-cp37m-manylinux_2_17_x86_64.manylinux2014_x86_64.whl (3.3 MB)\n",
            "\u001b[K     |████████████████████████████████| 3.3 MB 21.5 MB/s \n",
            "\u001b[?25hCollecting orjson>=3.0.0\n",
            "  Downloading orjson-3.7.11-cp37-cp37m-manylinux_2_17_x86_64.manylinux2014_x86_64.whl (275 kB)\n",
            "\u001b[K     |████████████████████████████████| 275 kB 70.6 MB/s \n",
            "\u001b[?25hRequirement already satisfied: qiskit-terra>=0.21 in /usr/local/lib/python3.7/dist-packages (from mthree>=0.17->pennylane-qiskit) (0.21.1)\n",
            "Requirement already satisfied: scipy>=1.3 in /usr/local/lib/python3.7/dist-packages (from mthree>=0.17->pennylane-qiskit) (1.7.3)\n",
            "Requirement already satisfied: psutil in /usr/local/lib/python3.7/dist-packages (from mthree>=0.17->pennylane-qiskit) (5.4.8)\n",
            "Requirement already satisfied: cython>=0.29 in /usr/local/lib/python3.7/dist-packages (from mthree>=0.17->pennylane-qiskit) (0.29.30)\n",
            "Requirement already satisfied: qiskit-ibmq-provider>=0.19.2 in /usr/local/lib/python3.7/dist-packages (from mthree>=0.17->pennylane-qiskit) (0.19.2)\n",
            "Requirement already satisfied: pennylane-lightning>=0.24 in /usr/local/lib/python3.7/dist-packages (from pennylane>=0.23->pennylane-qiskit) (0.24.0)\n",
            "Requirement already satisfied: toml in /usr/local/lib/python3.7/dist-packages (from pennylane>=0.23->pennylane-qiskit) (0.10.2)\n",
            "Requirement already satisfied: autograd in /usr/local/lib/python3.7/dist-packages (from pennylane>=0.23->pennylane-qiskit) (1.4)\n",
            "Requirement already satisfied: cachetools in /usr/local/lib/python3.7/dist-packages (from pennylane>=0.23->pennylane-qiskit) (4.2.4)\n",
            "Requirement already satisfied: retworkx in /usr/local/lib/python3.7/dist-packages (from pennylane>=0.23->pennylane-qiskit) (0.11.0)\n",
            "Requirement already satisfied: semantic-version==2.6 in /usr/local/lib/python3.7/dist-packages (from pennylane>=0.23->pennylane-qiskit) (2.6.0)\n",
            "Requirement already satisfied: appdirs in /usr/local/lib/python3.7/dist-packages (from pennylane>=0.23->pennylane-qiskit) (1.4.4)\n",
            "Requirement already satisfied: autoray>=0.3.1 in /usr/local/lib/python3.7/dist-packages (from pennylane>=0.23->pennylane-qiskit) (0.3.2)\n",
            "Requirement already satisfied: ninja in /usr/local/lib/python3.7/dist-packages (from pennylane-lightning>=0.24->pennylane>=0.23->pennylane-qiskit) (1.10.2.3)\n",
            "Requirement already satisfied: qiskit-aer==0.10.4 in /usr/local/lib/python3.7/dist-packages (from qiskit>=0.32->pennylane-qiskit) (0.10.4)\n",
            "Requirement already satisfied: requests>=2.19 in /usr/local/lib/python3.7/dist-packages (from qiskit-ibmq-provider>=0.19.2->mthree>=0.17->pennylane-qiskit) (2.23.0)\n",
            "Requirement already satisfied: python-dateutil>=2.8.0 in /usr/local/lib/python3.7/dist-packages (from qiskit-ibmq-provider>=0.19.2->mthree>=0.17->pennylane-qiskit) (2.8.2)\n",
            "Requirement already satisfied: requests-ntlm>=1.1.0 in /usr/local/lib/python3.7/dist-packages (from qiskit-ibmq-provider>=0.19.2->mthree>=0.17->pennylane-qiskit) (1.1.0)\n",
            "Requirement already satisfied: websockets>=10.0 in /usr/local/lib/python3.7/dist-packages (from qiskit-ibmq-provider>=0.19.2->mthree>=0.17->pennylane-qiskit) (10.3)\n",
            "Requirement already satisfied: urllib3>=1.21.1 in /usr/local/lib/python3.7/dist-packages (from qiskit-ibmq-provider>=0.19.2->mthree>=0.17->pennylane-qiskit) (1.24.3)\n",
            "Requirement already satisfied: websocket-client>=1.0.1 in /usr/local/lib/python3.7/dist-packages (from qiskit-ibmq-provider>=0.19.2->mthree>=0.17->pennylane-qiskit) (1.3.3)\n",
            "Requirement already satisfied: stevedore>=3.0.0 in /usr/local/lib/python3.7/dist-packages (from qiskit-terra>=0.21->mthree>=0.17->pennylane-qiskit) (3.5.0)\n",
            "Requirement already satisfied: dill>=0.3 in /usr/local/lib/python3.7/dist-packages (from qiskit-terra>=0.21->mthree>=0.17->pennylane-qiskit) (0.3.5.1)\n",
            "Requirement already satisfied: symengine>=0.9 in /usr/local/lib/python3.7/dist-packages (from qiskit-terra>=0.21->mthree>=0.17->pennylane-qiskit) (0.9.2)\n",
            "Requirement already satisfied: typing-extensions in /usr/local/lib/python3.7/dist-packages (from qiskit-terra>=0.21->mthree>=0.17->pennylane-qiskit) (4.1.1)\n",
            "Requirement already satisfied: shared-memory38 in /usr/local/lib/python3.7/dist-packages (from qiskit-terra>=0.21->mthree>=0.17->pennylane-qiskit) (0.1.2)\n",
            "Requirement already satisfied: sympy>=1.3 in /usr/local/lib/python3.7/dist-packages (from qiskit-terra>=0.21->mthree>=0.17->pennylane-qiskit) (1.7.1)\n",
            "Requirement already satisfied: ply>=3.10 in /usr/local/lib/python3.7/dist-packages (from qiskit-terra>=0.21->mthree>=0.17->pennylane-qiskit) (3.11)\n",
            "Requirement already satisfied: tweedledum<2.0,>=1.1 in /usr/local/lib/python3.7/dist-packages (from qiskit-terra>=0.21->mthree>=0.17->pennylane-qiskit) (1.1.1)\n",
            "Requirement already satisfied: six>=1.5 in /usr/local/lib/python3.7/dist-packages (from python-dateutil>=2.8.0->qiskit-ibmq-provider>=0.19.2->mthree>=0.17->pennylane-qiskit) (1.15.0)\n",
            "Requirement already satisfied: chardet<4,>=3.0.2 in /usr/local/lib/python3.7/dist-packages (from requests>=2.19->qiskit-ibmq-provider>=0.19.2->mthree>=0.17->pennylane-qiskit) (3.0.4)\n",
            "Requirement already satisfied: idna<3,>=2.5 in /usr/local/lib/python3.7/dist-packages (from requests>=2.19->qiskit-ibmq-provider>=0.19.2->mthree>=0.17->pennylane-qiskit) (2.10)\n",
            "Requirement already satisfied: certifi>=2017.4.17 in /usr/local/lib/python3.7/dist-packages (from requests>=2.19->qiskit-ibmq-provider>=0.19.2->mthree>=0.17->pennylane-qiskit) (2022.6.15)\n",
            "Requirement already satisfied: cryptography>=1.3 in /usr/local/lib/python3.7/dist-packages (from requests-ntlm>=1.1.0->qiskit-ibmq-provider>=0.19.2->mthree>=0.17->pennylane-qiskit) (37.0.4)\n",
            "Requirement already satisfied: ntlm-auth>=1.0.2 in /usr/local/lib/python3.7/dist-packages (from requests-ntlm>=1.1.0->qiskit-ibmq-provider>=0.19.2->mthree>=0.17->pennylane-qiskit) (1.5.0)\n",
            "Requirement already satisfied: cffi>=1.12 in /usr/local/lib/python3.7/dist-packages (from cryptography>=1.3->requests-ntlm>=1.1.0->qiskit-ibmq-provider>=0.19.2->mthree>=0.17->pennylane-qiskit) (1.15.1)\n",
            "Requirement already satisfied: pycparser in /usr/local/lib/python3.7/dist-packages (from cffi>=1.12->cryptography>=1.3->requests-ntlm>=1.1.0->qiskit-ibmq-provider>=0.19.2->mthree>=0.17->pennylane-qiskit) (2.21)\n",
            "Requirement already satisfied: importlib-metadata>=1.7.0 in /usr/local/lib/python3.7/dist-packages (from stevedore>=3.0.0->qiskit-terra>=0.21->mthree>=0.17->pennylane-qiskit) (4.12.0)\n",
            "Requirement already satisfied: pbr!=2.1.0,>=2.0.0 in /usr/local/lib/python3.7/dist-packages (from stevedore>=3.0.0->qiskit-terra>=0.21->mthree>=0.17->pennylane-qiskit) (5.9.0)\n",
            "Requirement already satisfied: zipp>=0.5 in /usr/local/lib/python3.7/dist-packages (from importlib-metadata>=1.7.0->stevedore>=3.0.0->qiskit-terra>=0.21->mthree>=0.17->pennylane-qiskit) (3.8.1)\n",
            "Requirement already satisfied: mpmath>=0.19 in /usr/local/lib/python3.7/dist-packages (from sympy>=1.3->qiskit-terra>=0.21->mthree>=0.17->pennylane-qiskit) (1.2.1)\n",
            "Requirement already satisfied: future>=0.15.2 in /usr/local/lib/python3.7/dist-packages (from autograd->pennylane>=0.23->pennylane-qiskit) (0.16.0)\n",
            "Installing collected packages: orjson, mthree, pennylane-qiskit\n",
            "Successfully installed mthree-1.0.0 orjson-3.7.11 pennylane-qiskit-0.24.0\n"
          ]
        }
      ],
      "source": [
        "!pip install pennylane-qiskit"
      ]
    },
    {
      "cell_type": "code",
      "execution_count": null,
      "metadata": {
        "id": "jeanulS00Oyu"
      },
      "outputs": [],
      "source": [
        "import tensorflow as tf\n",
        "import numpy as np\n",
        "from sklearn import datasets as ds\n",
        "from sklearn.model_selection import train_test_split\n",
        "from sklearn.preprocessing import MinMaxScaler\n",
        "import matplotlib.pyplot as plt\n",
        "from matplotlib.colors import ListedColormap\n",
        "import tensorflow as tf\n",
        "from tensorflow import keras\n",
        "import numpy as np\n",
        "import pandas as pd\n",
        "import re\n",
        "import csv\n",
        "import random\n",
        "import string\n",
        "import multiprocessing\n",
        "import itertools\n",
        "import random\n",
        "import csv\n",
        "import statistics\n",
        "import string\n",
        "import random\n",
        "import pennylane as qml"
      ]
    },
    {
      "cell_type": "code",
      "execution_count": null,
      "metadata": {
        "id": "nQrRWgKH0dcY"
      },
      "outputs": [],
      "source": [
        "class SimplifiedAES(object):\n",
        "    \"\"\"Simplified AES is a simplified version of AES algorithm\"\"\"\n",
        "\n",
        "    # S-Box\n",
        "    sBox = [\n",
        "        0x9,\n",
        "        0x4,\n",
        "        0xA,\n",
        "        0xB,\n",
        "        0xD,\n",
        "        0x1,\n",
        "        0x8,\n",
        "        0x5,\n",
        "        0x6,\n",
        "        0x2,\n",
        "        0x0,\n",
        "        0x3,\n",
        "        0xC,\n",
        "        0xE,\n",
        "        0xF,\n",
        "        0x7,\n",
        "    ]\n",
        "\n",
        "    # Inverse S-Box\n",
        "    sBoxI = [\n",
        "        0xA,\n",
        "        0x5,\n",
        "        0x9,\n",
        "        0xB,\n",
        "        0x1,\n",
        "        0x7,\n",
        "        0x8,\n",
        "        0xF,\n",
        "        0x6,\n",
        "        0x0,\n",
        "        0x2,\n",
        "        0x3,\n",
        "        0xC,\n",
        "        0x4,\n",
        "        0xD,\n",
        "        0xE,\n",
        "    ]\n",
        "\n",
        "    def __init__(self, key):\n",
        "        # Round keys: K0 = w0 + w1; K1 = w2 + w3; K2 = w4 + w5\n",
        "        self.pre_round_key, self.round1_key, self.round2_key = self.key_expansion(key)\n",
        "\n",
        "    def sub_word(self, word):\n",
        "        \"\"\" Substitute word\n",
        "        :param word: word\n",
        "        \"\"\"\n",
        "        # Take each nibble in the word and substitute another nibble for it using\n",
        "        # the Sbox table\n",
        "        return (self.sBox[(word >> 4)] << 4) + self.sBox[word & 0x0F]\n",
        "\n",
        "    def rot_word(self, word):\n",
        "        \"\"\" Rotate word\n",
        "        :param word: word\n",
        "        \"\"\"\n",
        "        # Swapping the two nibbles in the word since eqv to rotate here\n",
        "        return ((word & 0x0F) << 4) + ((word & 0xF0) >> 4)\n",
        "\n",
        "    def key_expansion(self, key):\n",
        "        \"\"\"Key expansion\n",
        "        Creates three 16-bit round keys from one single 16-bit cipher key\n",
        "        Cipher Key : | n0 | n1 | n2 | n3 |\n",
        "        w[0]       : | n0 | n1 |\n",
        "        w[1]       : | n2 | n3 |\n",
        "        for i % 2 == 0:\n",
        "            w[i] : w[i - 2] XOR (SubWord(RotWord(W[i-1])) XOR RC[Nr])\n",
        "        else:\n",
        "            w[i] = w[i - 1] XOR w[i - 2]\n",
        "        :param key: key to be used for encryption and/or decryption\n",
        "        :returns: Tuple containing pre-round, round 1 and round 2 key in order\n",
        "        \"\"\"\n",
        "\n",
        "        # Round constants\n",
        "        Rcon1 = 0x80\n",
        "        Rcon2 = 0x30\n",
        "\n",
        "        # Calculating value of each word\n",
        "        w = [None] * 6\n",
        "        w[0] = (key & 0xFF00) >> 8\n",
        "        w[1] = key & 0x00FF\n",
        "        w[2] = w[0] ^ (self.sub_word(self.rot_word(w[1])) ^ Rcon1)\n",
        "        w[3] = w[2] ^ w[1]\n",
        "        w[4] = w[2] ^ (self.sub_word(self.rot_word(w[3])) ^ Rcon2)\n",
        "        w[5] = w[4] ^ w[3]\n",
        "\n",
        "        return (\n",
        "            self.int_to_state((w[0] << 8) + w[1]),  # Pre-Round key\n",
        "            self.int_to_state((w[2] << 8) + w[3]),  # Round 1 key\n",
        "            self.int_to_state((w[4] << 8) + w[5]),  # Round 2 key\n",
        "        )\n",
        "\n",
        "    def gf_mult(self, a, b):\n",
        "        \"\"\"Galois field multiplication of a and b in GF(2^4) / x^4 + x + 1\n",
        "        :param a: First number\n",
        "        :param b: Second number\n",
        "        :returns: Multiplication of both under GF(2^4)\n",
        "        \"\"\"\n",
        "        # Initialise\n",
        "        product = 0\n",
        "\n",
        "        # Mask the unwanted bits\n",
        "        a = a & 0x0F\n",
        "        b = b & 0x0F\n",
        "\n",
        "        # While both multiplicands are non-zero\n",
        "        while a and b:\n",
        "\n",
        "            # If LSB of b is 1\n",
        "            if b & 1:\n",
        "\n",
        "                # Add current a to product\n",
        "                product = product ^ a\n",
        "\n",
        "            # Update a to a * 2\n",
        "            a = a << 1\n",
        "\n",
        "            # If a overflows beyond 4th bit\n",
        "            if a & (1 << 4):\n",
        "\n",
        "                # XOR with irreducible polynomial with high term eliminated\n",
        "                a = a ^ 0b10011\n",
        "\n",
        "            # Update b to b // 2\n",
        "            b = b >> 1\n",
        "\n",
        "        return product\n",
        "\n",
        "    def int_to_state(self, n):\n",
        "        \"\"\"Convert a 2-byte integer into a 4-element vector (state matrix)\n",
        "        :param m: integer\n",
        "        :returns: state corresponding to the integer\n",
        "        \"\"\"\n",
        "        return [n >> 12 & 0xF, (n >> 4) & 0xF, (n >> 8) & 0xF, n & 0xF]\n",
        "\n",
        "    def state_to_int(self, m):\n",
        "        \"\"\"Convert a 4-element vector (state matrix) into 2-byte integer\n",
        "        :param m: state\n",
        "        :returns: integer corresponding to the state\n",
        "        \"\"\"\n",
        "        return (m[0] << 12) + (m[2] << 8) + (m[1] << 4) + m[3]\n",
        "\n",
        "    def add_round_key(self, s1, s2):\n",
        "        \"\"\"Add round keys in GF(2^4)\n",
        "        :param s1: First number\n",
        "        :param s2: Second number\n",
        "        :returns: Addition of both under GF(2^4)\n",
        "        \"\"\"\n",
        "        return [i ^ j for i, j in zip(s1, s2)]\n",
        "\n",
        "    def sub_nibbles(self, sbox, state):\n",
        "        \"\"\"Nibble substitution\n",
        "        :param sbox: Substitution box to use for transformatin\n",
        "        :param state: State to perform sub nibbles transformation on\n",
        "        :returns: Resultant state\n",
        "        \"\"\"\n",
        "        return [sbox[nibble] for nibble in state]\n",
        "\n",
        "    def shift_rows(self, state):\n",
        "        \"\"\"Shift rows and inverse shift rows of state matrix (same)\n",
        "        :param state: State to perform shift rows transformation on\n",
        "        :returns: Resultant state\n",
        "        \"\"\"\n",
        "        return [state[0], state[1], state[3], state[2]]\n",
        "\n",
        "    def mix_columns(self, state):\n",
        "        \"\"\"Mix columns transformation on state matrix\n",
        "        :param state: State to perform mix columns transformation on\n",
        "        :returns: Resultant state\n",
        "        \"\"\"\n",
        "        return [\n",
        "            state[0] ^ self.gf_mult(4, state[2]),\n",
        "            state[1] ^ self.gf_mult(4, state[3]),\n",
        "            state[2] ^ self.gf_mult(4, state[0]),\n",
        "            state[3] ^ self.gf_mult(4, state[1]),\n",
        "        ]\n",
        "\n",
        "    def inverse_mix_columns(self, state):\n",
        "        \"\"\"Inverse mix columns transformation on state matrix\n",
        "        :param state: State to perform inverse mix columns transformation on\n",
        "        :returns: Resultant state\n",
        "        \"\"\"\n",
        "        return [\n",
        "            self.gf_mult(9, state[0]) ^ self.gf_mult(2, state[2]),\n",
        "            self.gf_mult(9, state[1]) ^ self.gf_mult(2, state[3]),\n",
        "            self.gf_mult(9, state[2]) ^ self.gf_mult(2, state[0]),\n",
        "            self.gf_mult(9, state[3]) ^ self.gf_mult(2, state[1]),\n",
        "        ]\n",
        "\n",
        "    def encrypt(self, plaintext):\n",
        "        \"\"\"Encrypt plaintext with given key\n",
        "        Example::\n",
        "            ciphertext = SimplifiedAES(key=0b0100101011110101).encrypt(0b1101011100101000)\n",
        "        :param plaintext: 16 bit plaintext\n",
        "        :returns: 16 bit ciphertext\n",
        "        \"\"\"\n",
        "        state = self.add_round_key(self.pre_round_key, self.int_to_state(plaintext))\n",
        "\n",
        "        state = self.mix_columns(self.shift_rows(self.sub_nibbles(self.sBox, state)))\n",
        "\n",
        "        state = self.add_round_key(self.round1_key, state)\n",
        "\n",
        "        state = self.shift_rows(self.sub_nibbles(self.sBox, state))\n",
        "\n",
        "        state = self.add_round_key(self.round2_key, state)\n",
        "\n",
        "        return self.state_to_int(state)"
      ]
    },
    {
      "cell_type": "code",
      "execution_count": null,
      "metadata": {
        "id": "MRX0QE7u0g2i"
      },
      "outputs": [],
      "source": [
        "import numpy as np\n",
        "from os import urandom\n",
        "import numpy as np\n",
        "from os import urandom\n",
        "import random\n",
        "\n",
        "# 8pt -> 16pt\n",
        "\n",
        "#convert_to_binary takes as input an array of ciphertext pairs\n",
        "#where the first row of the array contains the lefthand side of the ciphertexts,\n",
        "#the second row contains the righthand side of the ciphertexts,\n",
        "#the third row contains the lefthand side of the second ciphertexts,\n",
        "#and so on\n",
        "#it returns an array of bit vectors containing the same data\n",
        "\n",
        "def WORD_SIZE():\n",
        "    return(8);\n",
        "\n",
        "'''\n",
        "def ALPHA():\n",
        "    return(7);\n",
        "\n",
        "def BETA():\n",
        "    return(2);\n",
        "'''\n",
        "\n",
        "def convert_to_binary(arr):\n",
        "  X = np.zeros((4 * WORD_SIZE(),len(arr[0])),dtype=np.uint8);\n",
        "  for i in range(4 * WORD_SIZE()):\n",
        "    index = i // WORD_SIZE();\n",
        "    offset = WORD_SIZE() - (i % WORD_SIZE()) - 1;\n",
        "    X[i] = (arr[index] >> offset) & 1;\n",
        "  X = X.transpose();\n",
        "  return(X);\n",
        "\n",
        "#takes a text file that contains encrypted block0, block1, true diff prob, real or random\n",
        "#data samples are line separated, the above items whitespace-separated\n",
        "#returns train data, ground truth, optimal ddt prediction\n",
        "def readcsv(datei):\n",
        "    data = np.genfromtxt(datei, delimiter=' ', converters={x: lambda s: int(s,16) for x in range(2)});\n",
        "    X0 = [data[i][0] for i in range(len(data))];\n",
        "    X1 = [data[i][1] for i in range(len(data))];\n",
        "    Y = [data[i][3] for i in range(len(data))];\n",
        "    Z = [data[i][2] for i in range(len(data))];\n",
        "    ct0a = [X0[i] >> 16 for i in range(len(data))];\n",
        "    ct1a = [X0[i] & MASK_VAL for i in range(len(data))];\n",
        "    ct0b = [X1[i] >> 16 for i in range(len(data))];\n",
        "    ct1b = [X1[i] & MASK_VAL for i in range(len(data))];\n",
        "    ct0a = np.array(ct0a, dtype=np.uint16); ct1a = np.array(ct1a,dtype=np.uint16);\n",
        "    ct0b = np.array(ct0b, dtype=np.uint16); ct1b = np.array(ct1b, dtype=np.uint16);\n",
        "    \n",
        "    #X = [[X0[i] >> 16, X0[i] & 0xffff, X1[i] >> 16, X1[i] & 0xffff] for i in range(len(data))];\n",
        "    X = convert_to_binary([ct0a, ct1a, ct0b, ct1b]); \n",
        "    Y = np.array(Y, dtype=np.uint8); Z = np.array(Z);\n",
        "    return(X,Y,Z);\n",
        "\n",
        "#baseline training data generator\n",
        "def make_train_data(n, nr, diff=(0x80,0x00)):\n",
        "\n",
        "\n",
        "  plain0l = np.zeros(shape=(n,),dtype=int)\n",
        "  plain0r = np.zeros(shape=(n,),dtype=int)\n",
        "  plain1l = np.zeros(shape=(n,),dtype=int)\n",
        "  plain1r = np.zeros(shape=(n,),dtype=int)\n",
        "\n",
        "  '''\n",
        "  plain = random.randint(0, 255)\n",
        "  masterkey = random.randint(0, 127)\n",
        "  cipher = Present(plain, masterkey, rounds)\n",
        "  '''\n",
        "\n",
        "  for i in range(n):\n",
        "    plain0l[i] = random.randint(0, 255) # 8-bit\n",
        "    plain0r[i] = random.randint(0, 255) # 8-bit\n",
        "\n",
        "    plain1l[i] = plain0l[i] ^ diff[0];\n",
        "    plain1r[i] = plain0r[i] ^ diff[1];\n",
        "\n",
        "  Y = np.ones(shape=(n,)) # cipher\n",
        "\n",
        "  for i in range(int(n/2)):\n",
        "    plain1l[i] = random.randint(0, 255)\n",
        "    plain1r[i] = random.randint(0, 255)\n",
        "    Y[i] = 0 # random \n",
        "\n",
        "  plain0 = np.zeros(shape=(n,),dtype=int)\n",
        "  plain1 = np.zeros(shape=(n,),dtype=int)\n",
        "  ctdata0 = np.zeros(shape=(n,),dtype=int)\n",
        "  ctdata1 = np.zeros(shape=(n,),dtype=int)\n",
        "\n",
        "  ctdata0r = np.zeros(shape=(n,),dtype=int)\n",
        "  ctdata0l = np.zeros(shape=(n,),dtype=int)\n",
        "  ctdata1r = np.zeros(shape=(n,),dtype=int)\n",
        "  ctdata1l = np.zeros(shape=(n,),dtype=int)\n",
        "  \n",
        "  for i in range(n):\n",
        "\n",
        "    plain0[i] = int(256*(plain0l[i]) + plain0r[i]) \n",
        "    plain1[i] = int(256*(plain1l[i]) + plain1r[i])\n",
        "\n",
        "    ks = random.randint(0, 65535)\n",
        "    ctdata0[i] = SimplifiedAES(ks).encrypt(plain0[i])\n",
        "    ctdata1[i] =  SimplifiedAES(ks).encrypt(plain1[i])\n",
        "\n",
        "    ctdata0r[i] = ctdata0[i] % 256\n",
        "    ctdata0l[i] = ctdata0[i] >> 8\n",
        "\n",
        "    ctdata1r[i] = ctdata1[i] % 256\n",
        "    ctdata1l[i] = ctdata1[i] >> 8\n",
        "\n",
        "  X = convert_to_binary([ctdata0l, ctdata0r, ctdata1l, ctdata1r]); \n",
        "\n",
        "  return(X,Y);"
      ]
    },
    {
      "cell_type": "code",
      "execution_count": null,
      "metadata": {
        "id": "jn0dIhIP0iiy"
      },
      "outputs": [],
      "source": [
        "num_rounds=2\n",
        "x_train, y_train = make_train_data(2000,num_rounds); #10**7\n",
        "x_val, y_val = make_train_data(400,num_rounds); #10**7\n",
        "x_test, y_test = make_train_data(100,num_rounds); #10**7\n",
        "\n",
        "x_train = np.asarray(x_train)\n",
        "x_val = np.asarray(x_val)\n",
        "x_test = np.asarray(x_test)\n",
        "\n",
        "y_train = np.asarray(y_train)\n",
        "y_val = np.asarray(y_val)\n",
        "y_test = np.asarray(y_test)\n",
        "\n",
        "\n",
        "y_train = y_train.reshape((len(y_train),1))\n",
        "y_val = y_val.reshape((len(y_val),1))\n",
        "y_test = y_test.reshape((len(y_test),1))"
      ]
    },
    {
      "cell_type": "code",
      "execution_count": null,
      "metadata": {
        "colab": {
          "base_uri": "https://localhost:8080/"
        },
        "id": "yCvbfKX2HJMX",
        "outputId": "359ebcbe-3c80-4343-c17d-d6f1d65fd884"
      },
      "outputs": [
        {
          "data": {
            "text/plain": [
              "array([[1, 0, 0, ..., 1, 1, 1],\n",
              "       [0, 0, 1, ..., 1, 1, 1],\n",
              "       [0, 0, 0, ..., 0, 1, 0],\n",
              "       ...,\n",
              "       [1, 1, 0, ..., 1, 0, 1],\n",
              "       [0, 1, 1, ..., 0, 0, 1],\n",
              "       [0, 0, 1, ..., 0, 0, 1]], dtype=uint8)"
            ]
          },
          "execution_count": 10,
          "metadata": {},
          "output_type": "execute_result"
        }
      ],
      "source": [
        "x_train"
      ]
    },
    {
      "cell_type": "code",
      "execution_count": null,
      "metadata": {
        "colab": {
          "base_uri": "https://localhost:8080/"
        },
        "id": "qS-7jR13a074",
        "outputId": "df0492eb-f4e7-443b-8e69-a97582d3c242"
      },
      "outputs": [
        {
          "data": {
            "text/plain": [
              "(100, 1)"
            ]
          },
          "execution_count": 11,
          "metadata": {},
          "output_type": "execute_result"
        }
      ],
      "source": [
        "y_test.shape"
      ]
    },
    {
      "cell_type": "code",
      "execution_count": null,
      "metadata": {
        "colab": {
          "base_uri": "https://localhost:8080/"
        },
        "id": "IvQ0JlruR7-I",
        "outputId": "d794fdde-0fc5-4b96-97ae-712d6c9d287d"
      },
      "outputs": [
        {
          "data": {
            "text/plain": [
              "[<AccountProvider for IBMQ(hub='ibm-q', group='open', project='main')>,\n",
              " <AccountProvider for IBMQ(hub='ibm-q-research-2', group='hansung-uni-1', project='main')>]"
            ]
          },
          "execution_count": 12,
          "metadata": {},
          "output_type": "execute_result"
        }
      ],
      "source": [
        "from qiskit import IBMQ\n",
        "\n",
        "#IBMQ.save_account('8a0997aa57a8c45def4615c38d2b617b29c5ee728244e29dc085ccbb6c49a5dcd29a26834b8cd67f70d4e633b7105837c8a1157e565c3bf0688919106f36fe51',overwrite=True)\n",
        "IBMQ.save_account('2d44b46106dc0f0ac0c4c6dbd929fa20687830c31a00ca1cde97e28e4d897af34e34d719f97e04db8313f28ec91922b1663f59be50795e586025955124eff17c', overwrite=True)\n",
        "IBMQ.load_account() # Load account from disk\n",
        "IBMQ.providers()    # List all available providers"
      ]
    },
    {
      "cell_type": "code",
      "execution_count": null,
      "metadata": {
        "colab": {
          "base_uri": "https://localhost:8080/"
        },
        "id": "6QtUOCMXSGKQ",
        "outputId": "bd3d5aec-01c7-4296-c37b-1222adb21cea"
      },
      "outputs": [
        {
          "data": {
            "text/plain": [
              "[<IBMQSimulator('ibmq_qasm_simulator') from IBMQ(hub='ibm-q-research-2', group='hansung-uni-1', project='main')>,\n",
              " <IBMQBackend('ibmq_armonk') from IBMQ(hub='ibm-q-research-2', group='hansung-uni-1', project='main')>,\n",
              " <IBMQBackend('ibmq_santiago') from IBMQ(hub='ibm-q-research-2', group='hansung-uni-1', project='main')>,\n",
              " <IBMQBackend('ibmq_bogota') from IBMQ(hub='ibm-q-research-2', group='hansung-uni-1', project='main')>,\n",
              " <IBMQBackend('ibmq_lima') from IBMQ(hub='ibm-q-research-2', group='hansung-uni-1', project='main')>,\n",
              " <IBMQBackend('ibmq_belem') from IBMQ(hub='ibm-q-research-2', group='hansung-uni-1', project='main')>,\n",
              " <IBMQBackend('ibmq_quito') from IBMQ(hub='ibm-q-research-2', group='hansung-uni-1', project='main')>,\n",
              " <IBMQSimulator('simulator_statevector') from IBMQ(hub='ibm-q-research-2', group='hansung-uni-1', project='main')>,\n",
              " <IBMQSimulator('simulator_mps') from IBMQ(hub='ibm-q-research-2', group='hansung-uni-1', project='main')>,\n",
              " <IBMQSimulator('simulator_extended_stabilizer') from IBMQ(hub='ibm-q-research-2', group='hansung-uni-1', project='main')>,\n",
              " <IBMQSimulator('simulator_stabilizer') from IBMQ(hub='ibm-q-research-2', group='hansung-uni-1', project='main')>,\n",
              " <IBMQBackend('ibmq_jakarta') from IBMQ(hub='ibm-q-research-2', group='hansung-uni-1', project='main')>,\n",
              " <IBMQBackend('ibmq_manila') from IBMQ(hub='ibm-q-research-2', group='hansung-uni-1', project='main')>,\n",
              " <IBMQBackend('ibm_lagos') from IBMQ(hub='ibm-q-research-2', group='hansung-uni-1', project='main')>,\n",
              " <IBMQBackend('ibm_nairobi') from IBMQ(hub='ibm-q-research-2', group='hansung-uni-1', project='main')>,\n",
              " <IBMQBackend('ibm_perth') from IBMQ(hub='ibm-q-research-2', group='hansung-uni-1', project='main')>,\n",
              " <IBMQBackend('ibm_oslo') from IBMQ(hub='ibm-q-research-2', group='hansung-uni-1', project='main')>]"
            ]
          },
          "execution_count": 13,
          "metadata": {},
          "output_type": "execute_result"
        }
      ],
      "source": [
        "provider = IBMQ.get_provider(hub='ibm-q-research-2')\n",
        "provider.backends()"
      ]
    },
    {
      "cell_type": "markdown",
      "metadata": {
        "id": "7td77ySMdLto"
      },
      "source": [
        "Basic"
      ]
    },
    {
      "cell_type": "code",
      "execution_count": null,
      "metadata": {
        "colab": {
          "base_uri": "https://localhost:8080/",
          "height": 247
        },
        "id": "czhCHURT00ad",
        "outputId": "d278e645-c30a-441b-f2ca-170e90813e26"
      },
      "outputs": [
        {
          "data": {
            "image/png": "[encoded data removed]",
            "text/plain": [
              "<Figure size 360x216 with 1 Axes>"
            ]
          },
          "metadata": {},
          "output_type": "display_data"
        }
      ],
      "source": [
        "import pennylane as qml\n",
        "\n",
        "n_qubits = 2\n",
        "dev = qml.device(\"default.qubit\", wires=n_qubits)\n",
        "#dev = qml.device('qiskit.ibmq', wires=1, backend='ibmq_qasm_simulator', ibmqx_token=\"2d44b46106dc0f0ac0c4c6dbd929fa20687830c31a00ca1cde97e28e4d897af34e34d719f97e04db8313f28ec91922b1663f59be50795e586025955124eff17c\")\n",
        "@qml.qnode(dev)\n",
        "def qnode(inputs, weights):\n",
        "    qml.AmplitudeEmbedding(inputs, wires=range(n_qubits), pad_with=0, normalize=True)\n",
        "    qml.BasicEntanglerLayers(weights, wires=range(n_qubits))\n",
        "    return [qml.expval(qml.PauliZ(wires=i)) for i in range(n_qubits)]\n",
        "\n",
        "n_layers = 5\n",
        "weight_shapes = {\"weights\": (n_layers, n_qubits)}\n",
        "qlayer = qml.qnn.KerasLayer(qnode, weight_shapes, output_dim=n_qubits)\n",
        "\n",
        "w = np.ones((n_layers, n_qubits))\n",
        "inputssss = np.ones((32,4))\n",
        "fig, ax = qml.draw_mpl(qnode)(inputssss,w)\n",
        "fig.show()"
      ]
    },
    {
      "cell_type": "markdown",
      "metadata": {
        "id": "2v6o1x81dMw3"
      },
      "source": [
        "Random + Amplitude"
      ]
    },
    {
      "cell_type": "code",
      "execution_count": null,
      "metadata": {
        "colab": {
          "base_uri": "https://localhost:8080/",
          "height": 247
        },
        "id": "_EvdvILldRqp",
        "outputId": "48e50e2b-0a1d-44db-eccb-069201488a1b"
      },
      "outputs": [
        {
          "data": {
            "image/png": "[encoded data removed]",
            "text/plain": [
              "<Figure size 360x216 with 1 Axes>"
            ]
          },
          "metadata": {},
          "output_type": "display_data"
        }
      ],
      "source": [
        "import pennylane as qml\n",
        "from pennylane import numpy as np\n",
        "\n",
        "n_qubits = 2\n",
        "\n",
        "dev = qml.device(\"default.qubit\", wires=n_qubits)\n",
        "#dev = qml.device('qulacs.simulator', wires=n_qubits) \n",
        "\n",
        "@qml.qnode(dev)\n",
        "def qnode(inputs, weights):\n",
        "    qml.AmplitudeEmbedding(inputs, wires=range(n_qubits), pad_with=0, normalize=True)\n",
        "    qml.RandomLayers(weights=weights, wires=range(n_qubits))\n",
        "    return [qml.expval(qml.PauliZ(wires=i)) for i in range(n_qubits)]\n",
        "\n",
        "n_layers = 5\n",
        "weight_shapes = {\"weights\": (n_layers, n_qubits)}\n",
        "qlayer = qml.qnn.KerasLayer(qnode, weight_shapes, output_dim=n_qubits)\n",
        "\n",
        "w = np.ones((n_layers, n_qubits))\n",
        "inputssss = np.ones((32,4))\n",
        "fig, ax = qml.draw_mpl(qnode)(inputssss,w)\n",
        "fig.show()"
      ]
    },
    {
      "cell_type": "markdown",
      "metadata": {
        "id": "HEGe5ejsdNrQ"
      },
      "source": [
        "Strong"
      ]
    },
    {
      "cell_type": "code",
      "execution_count": null,
      "metadata": {
        "id": "5CZ_1NgcdRF8"
      },
      "outputs": [],
      "source": [
        "n_qubits = 2\n",
        "\n",
        "#dev = qml.device(\"default.mixed\", wires=n_qubits)\n",
        "\n",
        "dev = qml.device(\"default.qubit\", wires=n_qubits)\n",
        "\n",
        "\n",
        "@qml.qnode(dev) # , interface=\"tf\", diff_method=\"backprop \n",
        "def qnode(inputs, weights):\n",
        "    qml.AmplitudeEmbedding(inputs, wires=range(n_qubits), pad_with=0, normalize=True)\n",
        "    qml.StronglyEntanglingLayers(weights=weights, wires=range(n_qubits))\n",
        "    return [qml.expval(qml.PauliZ(wires=i)) for i in range(n_qubits)]"
      ]
    },
    {
      "cell_type": "code",
      "execution_count": null,
      "metadata": {
        "id": "WGfSJdUm1Fpq"
      },
      "outputs": [],
      "source": [
        "n_layers = 10\n",
        "weight_shapes = {\"weights\": (n_layers, n_qubits,3)}\n",
        "qlayer = qml.qnn.KerasLayer(qnode, weight_shapes, output_dim=n_qubits)"
      ]
    },
    {
      "cell_type": "code",
      "execution_count": null,
      "metadata": {
        "colab": {
          "base_uri": "https://localhost:8080/",
          "height": 247
        },
        "id": "srrvH0eLPrAT",
        "outputId": "39570528-8e34-4f2b-d124-8891bbe8482b"
      },
      "outputs": [
        {
          "data": {
            "image/png": "[encoded data removed]",
            "text/plain": [
              "<Figure size 360x216 with 1 Axes>"
            ]
          },
          "metadata": {},
          "output_type": "display_data"
        }
      ],
      "source": [
        "w = np.ones((n_layers, n_qubits,3))\n",
        "inputssss = np.ones((32,4))\n",
        "fig, ax = qml.draw_mpl(qnode)(inputssss,w)\n",
        "fig.show()"
      ]
    },
    {
      "cell_type": "code",
      "execution_count": null,
      "metadata": {
        "id": "x1nckrmnT5TZ"
      },
      "outputs": [],
      "source": [
        "# re-define the layers\n",
        "clayer_1 = tf.keras.layers.Dense(16)\n",
        "# qubit 수 * 양자회로 수 는 맞아야 함\n",
        "\n",
        "q1 = qml.qnn.KerasLayer(qnode, weight_shapes, output_dim=n_qubits)\n",
        "q2 = qml.qnn.KerasLayer(qnode, weight_shapes, output_dim=n_qubits)\n",
        "q3 = qml.qnn.KerasLayer(qnode, weight_shapes, output_dim=n_qubits)\n",
        "q4 = qml.qnn.KerasLayer(qnode, weight_shapes, output_dim=n_qubits)\n",
        "\n",
        "'''\n",
        "q5 = qml.qnn.KerasLayer(qnode, weight_shapes, output_dim=n_qubits)\n",
        "q6 = qml.qnn.KerasLayer(qnode, weight_shapes, output_dim=n_qubits)\n",
        "q7 = qml.qnn.KerasLayer(qnode, weight_shapes, output_dim=n_qubits)\n",
        "q8 = qml.qnn.KerasLayer(qnode, weight_shapes, output_dim=n_qubits)\n",
        "'''\n",
        "\n",
        "output_layer = tf.keras.layers.Dense(1, activation = 'sigmoid')\n",
        "\n",
        "# construct the model\n",
        "inputs = tf.keras.Input(shape=(32,))\n",
        "x = clayer_1(inputs)\n",
        "\n",
        "x1, x2, x3, x4 = tf.split(x, 4, axis=1)\n",
        "\n",
        "#x1, x2, x3, x4, x5, x6, x7, x8 = tf.split(x, 8, axis=1)\n",
        "\n",
        "\n",
        "x1 = q1(x1)\n",
        "x2 = q2(x2)\n",
        "x3 = q3(x3)\n",
        "x4 = q4(x4)\n",
        "'''\n",
        "x5 = q5(x5)\n",
        "x6 = q6(x6)\n",
        "x7 = q7(x7)\n",
        "x8 = q8(x8)\n",
        "'''\n",
        "\n",
        "x = tf.concat([x1,x2,x3,x4], axis=1)\n",
        "#x = tf.concat([x1,x2,x3,x4,x5, x6, x7, x8], axis=1)\n",
        "outputs = output_layer(x)\n",
        "\n",
        "q1.build((32,4))\n",
        "q2.build((32,4))\n",
        "q3.build((32,4))\n",
        "q4.build((32,4))\n",
        "'''\n",
        "q5.build((32,4))\n",
        "q6.build((32,4))\n",
        "q7.build((32,4))\n",
        "q8.build((32,4))\n",
        "'''\n",
        "\n",
        "model = tf.keras.Model(inputs=inputs, outputs=outputs)"
      ]
    },
    {
      "cell_type": "code",
      "execution_count": null,
      "metadata": {
        "colab": {
          "base_uri": "https://localhost:8080/"
        },
        "id": "pzj_OX3eS_2M",
        "outputId": "0188a533-ef95-4e0f-ab74-d9be576441c8"
      },
      "outputs": [
        {
          "name": "stdout",
          "output_type": "stream",
          "text": [
            "Model: \"model\"\n",
            "__________________________________________________________________________________________________\n",
            " Layer (type)                   Output Shape         Param #     Connected to                     \n",
            "==================================================================================================\n",
            " input_1 (InputLayer)           [(None, 32)]         0           []                               \n",
            "                                                                                                  \n",
            " dense (Dense)                  (None, 16)           528         ['input_1[0][0]']                \n",
            "                                                                                                  \n",
            " tf.split (TFOpLambda)          [(None, 4),          0           ['dense[0][0]']                  \n",
            "                                 (None, 4),                                                       \n",
            "                                 (None, 4),                                                       \n",
            "                                 (None, 4)]                                                       \n",
            "                                                                                                  \n",
            " keras_layer_1 (KerasLayer)     (None, 2)            60          ['tf.split[0][0]']               \n",
            "                                                                                                  \n",
            " keras_layer_2 (KerasLayer)     (None, 2)            60          ['tf.split[0][1]']               \n",
            "                                                                                                  \n",
            " keras_layer_3 (KerasLayer)     (None, 2)            60          ['tf.split[0][2]']               \n",
            "                                                                                                  \n",
            " keras_layer_4 (KerasLayer)     (None, 2)            60          ['tf.split[0][3]']               \n",
            "                                                                                                  \n",
            " tf.concat (TFOpLambda)         (None, 8)            0           ['keras_layer_1[0][0]',          \n",
            "                                                                  'keras_layer_2[0][0]',          \n",
            "                                                                  'keras_layer_3[0][0]',          \n",
            "                                                                  'keras_layer_4[0][0]']          \n",
            "                                                                                                  \n",
            " dense_1 (Dense)                (None, 1)            9           ['tf.concat[0][0]']              \n",
            "                                                                                                  \n",
            "==================================================================================================\n",
            "Total params: 777\n",
            "Trainable params: 777\n",
            "Non-trainable params: 0\n",
            "__________________________________________________________________________________________________\n"
          ]
        }
      ],
      "source": [
        "model. summary()"
      ]
    },
    {
      "cell_type": "code",
      "execution_count": null,
      "metadata": {
        "id": "RVLyKA3V1bJR"
      },
      "outputs": [],
      "source": [
        "opt = tf.keras.optimizers.Adam(learning_rate=0.001)\n",
        "model.compile(opt, loss=\"binary_crossentropy\", metrics=[\"acc\"])"
      ]
    },
    {
      "cell_type": "code",
      "execution_count": null,
      "metadata": {
        "colab": {
          "background_save": true,
          "base_uri": "https://localhost:8080/"
        },
        "id": "idhFiO0Z0woq",
        "outputId": "eff8efc8-56a0-45cb-9ba3-9115eb311ce1"
      },
      "outputs": [
        {
          "name": "stdout",
          "output_type": "stream",
          "text": [
            "Epoch 1/25\n",
            "63/63 - 2066s - loss: 0.7024 - acc: 0.5225 - val_loss: 0.6866 - val_acc: 0.5540 - 2066s/epoch - 33s/step\n",
            "Epoch 2/25\n",
            "63/63 - 2067s - loss: 0.6768 - acc: 0.5675 - val_loss: 0.6726 - val_acc: 0.5880 - 2067s/epoch - 33s/step\n",
            "Epoch 3/25\n",
            "63/63 - 2062s - loss: 0.6604 - acc: 0.6105 - val_loss: 0.6570 - val_acc: 0.6020 - 2062s/epoch - 33s/step\n",
            "Epoch 4/25\n",
            "63/63 - 2055s - loss: 0.6394 - acc: 0.6565 - val_loss: 0.6319 - val_acc: 0.6480 - 2055s/epoch - 33s/step\n",
            "Epoch 5/25\n",
            "63/63 - 2052s - loss: 0.6108 - acc: 0.6955 - val_loss: 0.6031 - val_acc: 0.6680 - 2052s/epoch - 33s/step\n",
            "Epoch 6/25\n",
            "63/63 - 2063s - loss: 0.5703 - acc: 0.7365 - val_loss: 0.5604 - val_acc: 0.7240 - 2063s/epoch - 33s/step\n",
            "Epoch 7/25\n",
            "63/63 - 2054s - loss: 0.5166 - acc: 0.7860 - val_loss: 0.5098 - val_acc: 0.7620 - 2054s/epoch - 33s/step\n",
            "Epoch 8/25\n",
            "63/63 - 2038s - loss: 0.4490 - acc: 0.8415 - val_loss: 0.4515 - val_acc: 0.8180 - 2038s/epoch - 32s/step\n",
            "Epoch 9/25\n",
            "63/63 - 2068s - loss: 0.3797 - acc: 0.8830 - val_loss: 0.3838 - val_acc: 0.8660 - 2068s/epoch - 33s/step\n",
            "Epoch 10/25\n",
            "63/63 - 2049s - loss: 0.3166 - acc: 0.9205 - val_loss: 0.3228 - val_acc: 0.9040 - 2049s/epoch - 33s/step\n",
            "Epoch 11/25\n",
            "63/63 - 2055s - loss: 0.2643 - acc: 0.9435 - val_loss: 0.2716 - val_acc: 0.9260 - 2055s/epoch - 33s/step\n",
            "Epoch 12/25\n"
          ]
        }
      ],
      "source": [
        "fitting = model.fit(x_train, y_train, epochs=25, batch_size=32, validation_data = (x_val, y_val), verbose=2)"
      ]
    },
    {
      "cell_type": "code",
      "execution_count": null,
      "metadata": {
        "id": "MnVUq3HVdHjh"
      },
      "outputs": [],
      "source": [
        "predicted_labels = model.predict(np.array(x_test))\n",
        "\n",
        "res = np.array(predicted_labels > 0.5, dtype = int)\n",
        "\n",
        "res = res.reshape((len(x_test)))\n",
        "y_test = y_test.reshape((len(y_test)))\n",
        "\n",
        "total = 0\n",
        "\n",
        "for i in range(len(res)):\n",
        "    if res[i] == y_test[i]:\n",
        "        total += 1\n",
        "\n",
        "print(total/len(x_test))\n"
      ]
    },
    {
      "cell_type": "code",
      "execution_count": null,
      "metadata": {
        "id": "G7xnmslUHT0l"
      },
      "outputs": [],
      "source": []
    }
  ],
  "metadata": {
    "accelerator": "GPU",
    "colab": {
      "collapsed_sections": [],
      "machine_shape": "hm",
      "provenance": []
    },
    "gpuClass": "standard",
    "kernelspec": {
      "display_name": "Python 3",
      "name": "python3"
    },
    "language_info": {
      "name": "python"
    }
  },
  "nbformat": 4,
  "nbformat_minor": 0
}